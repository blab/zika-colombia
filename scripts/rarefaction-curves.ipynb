{
 "cells": [
  {
   "cell_type": "code",
   "execution_count": 1,
   "metadata": {},
   "outputs": [],
   "source": [
    "# remember to load the environment first by running `conda activate colombia_analysis`\n",
    "#import all the handy dandy libraries\n",
    "import os\n",
    "import glob\n",
    "import numpy as np\n",
    "import pandas as pd\n",
    "import json\n",
    "import matplotlib as mpl\n",
    "import matplotlib.pyplot as plt\n",
    "from matplotlib import font_manager as fm\n",
    "%matplotlib inline\n",
    "\n",
    "#get useful tools from augur\n",
    "from augur.utils import json_to_tree\n",
    "#designating font parameters for later plotting.\n",
    "font_path = '/usr/local/lib/python2.7/site-packages/matplotlib/mpl-data/fonts/ttf/HelveticaNeue.ttf'\n",
    "font_properties = fm.FontProperties(fname=font_path)\n",
    "mpl.rcParams['font.family'] = font_properties.get_name()\n",
    "mpl.rcParams['font.weight']=100\n",
    "mpl.rcParams['axes.labelweight']=100\n",
    "mpl.rcParams['font.size']=14"
   ]
  },
  {
   "cell_type": "code",
   "execution_count": 2,
   "metadata": {},
   "outputs": [],
   "source": [
    "def load_tree_from_file_path(json_file_path):\n",
    "    ''' loads the tree from a json file path, which is just a little more in line with how we think about loading files in python.'''\n",
    "    with open(json_file_path) as file:\n",
    "        loaded_json = json.load(file)\n",
    "        tree = json_to_tree(loaded_json)\n",
    "    return tree\n",
    "\n",
    "\n",
    "def count_introductions(node, to_country, transitions=0): #remember to start at the root node for most cases\n",
    "    \"\"\" recursive function that takes in a node, evaluates whether its children represent introductions\n",
    "        and evaluates the children's children if they are not introductions.\n",
    "        BY DESIGN THIS FUNCTION DOES NOT TRAVERSE FURTHER DOWN A SUBTREE ONCE AN INTRODUCTION HAS BEEN DETECTED.\"\"\"\n",
    "    node_country = node.attr[\"country\"]    \n",
    "    \n",
    "    if node.is_terminal(): # child is a leaf\n",
    "        transitions = transitions\n",
    "    \n",
    "    else: #if node is an internal node, and therefore has children\n",
    "        for child in node.clades:\n",
    "            child_country = child.attr[\"country\"]\n",
    "            #child of node is terminal, and is an introduction\n",
    "            if child.is_terminal() and child_country != node_country and child_country == to_country:\n",
    "                transitions += 1\n",
    "            #child of node is terminal, but is not an introduction\n",
    "            elif child.is_terminal() and child_country != to_country:\n",
    "                transitions = transitions\n",
    "            #child is an internal node, but is also an introduction\n",
    "            elif not child.is_terminal() and child_country != node_country and child_country == to_country: # introduction on internal branch, count and don't recurse.\n",
    "                transitions += 1\n",
    "            #otherwise\n",
    "            else:\n",
    "                transitions = count_introductions(child, to_country, transitions = transitions)\n",
    "    return transitions\n"
   ]
  },
  {
   "cell_type": "code",
   "execution_count": 63,
   "metadata": {},
   "outputs": [
    {
     "name": "stdout",
     "output_type": "stream",
     "text": [
      "<class 'int'>\n"
     ]
    }
   ],
   "source": [
    "#TESTING OUT MY FUNCTION, ANSWER SHOULD BE TWO!\n",
    "with open(\"../auspice/zika-colombia_tree.json\") as file:\n",
    "    json_tree = json.load(file)\n",
    "tree = json_to_tree(json_tree)\n",
    "\n",
    "counter = 0\n",
    "starting_node = tree.root\n",
    "print(type(count_introductions(starting_node, \"colombia\")))"
   ]
  },
  {
   "cell_type": "code",
   "execution_count": 64,
   "metadata": {},
   "outputs": [],
   "source": [
    "\n",
    "colombia_df = pd.DataFrame({'n_seqs': [], 'trial_number': [], 'introduction_count': []})\n",
    "for filepath in glob.glob(os.path.join('../supplemental-analysis/rarefaction-curves/colombia/auspice/*', '*_tree.json')):\n",
    "    n_seqs = int(filepath.strip(\"../supplemental-analysis/rarefaction-curves/colombia/auspice/auspice_\").split(\"/\")[0].split(\"_\")[0])\n",
    "    trial_number = int(filepath.strip(\"../supplemental-analysis/rarefaction-curves/colombia/auspice/auspice_\").split(\"/\")[0].split(\"_\")[1])\n",
    "    tree = load_tree_from_file_path(filepath)\n",
    "    start_node = tree.root\n",
    "    n_introductions = count_introductions(start_node, \"colombia\")\n",
    "    colombia_df = colombia_df.append({'n_seqs': n_seqs, 'trial_number': trial_number, 'introduction_count': n_introductions}, ignore_index=True)\n",
    "\n",
    "\n",
    "mexico_df = pd.DataFrame({'n_seqs': [], 'trial_number': [], 'introduction_count': []})\n",
    "for filepath in glob.glob(os.path.join('../supplemental-analysis/rarefaction-curves/mexico/auspice/*', '*_tree.json')):\n",
    "    n_seqs = int(filepath.strip(\"../supplemental-analysis/rarefaction-curves/mexico/auspice/auspice_\").split(\"/\")[0].split(\"_\")[0])\n",
    "    trial_number = int(filepath.strip(\"../supplemental-analysis/rarefaction-curves/mexico/auspice/auspice_\").split(\"/\")[0].split(\"_\")[1])\n",
    "    tree = load_tree_from_file_path(filepath)\n",
    "    start_node = tree.root\n",
    "    n_introductions = count_introductions(start_node, \"mexico\")\n",
    "    mexico_df = mexico_df.append({'n_seqs': n_seqs, 'trial_number': trial_number, 'introduction_count': n_introductions}, ignore_index=True)\n"
   ]
  },
  {
   "cell_type": "code",
   "execution_count": null,
   "metadata": {},
   "outputs": [],
   "source": []
  },
  {
   "cell_type": "code",
   "execution_count": 140,
   "metadata": {},
   "outputs": [
    {
     "name": "stdout",
     "output_type": "stream",
     "text": [
      "5.5\n"
     ]
    }
   ],
   "source": [
    "values = []\n",
    "for i in range(1,5):\n",
    "    x = (mexico_df.loc[(mexico_df['n_seqs'] == 44) & (mexico_df['trial_number'] == i)][\"introduction_count\"])\n",
    "    values.append(int(x))\n",
    "print(np.median(values))"
   ]
  },
  {
   "cell_type": "code",
   "execution_count": 103,
   "metadata": {},
   "outputs": [
    {
     "name": "stdout",
     "output_type": "stream",
     "text": [
      "26    1.0\n",
      "Name: introduction_count, dtype: float64\n"
     ]
    }
   ],
   "source": [
    "x = mexico_df.loc[(mexico_df['n_seqs'] == 1) & (mexico_df['trial_number'] == 1)][\"introduction_count\"]\n",
    "print(x)"
   ]
  },
  {
   "cell_type": "code",
   "execution_count": 158,
   "metadata": {},
   "outputs": [
    {
     "data": {
      "text/plain": [
       "Text(0.5,1,'Mexico')"
      ]
     },
     "execution_count": 158,
     "metadata": {},
     "output_type": "execute_result"
    },
    {
     "data": {
      "image/png": "[encoded data removed]",
      "text/plain": [
       "<Figure size 720x360 with 1 Axes>"
      ]
     },
     "metadata": {},
     "output_type": "display_data"
    }
   ],
   "source": [
    "fig,ax = plt.subplots(figsize=(10, 5), facecolor=\"w\")\n",
    "\n",
    "for i in range(1,51):\n",
    "    values = []\n",
    "    for j in range(1,5):\n",
    "        x = i\n",
    "        y = int(mexico_df.loc[(mexico_df['n_seqs'] == i) & (mexico_df['trial_number'] == j)][\"introduction_count\"])\n",
    "        values.append(y)\n",
    "        plt.scatter(x,y, color = \"#a9cfd9\", s=25)\n",
    "    plt.scatter(i, np.mean(values), color=\"black\", s=75)\n",
    "\n",
    "ax.set_ylim(0,10.25)\n",
    "ax.spines['top'].set_visible(False)\n",
    "ax.spines['right'].set_visible(False)\n",
    "\n",
    "ax.set_xlabel(\"Number of sequences\")\n",
    "ax.set_ylabel(\"Number of introductions\")\n",
    "ax.set_title(\"Mexico\")"
   ]
  },
  {
   "cell_type": "code",
   "execution_count": 159,
   "metadata": {},
   "outputs": [
    {
     "data": {
      "text/plain": [
       "Text(0.5,1,'Colombia')"
      ]
     },
     "execution_count": 159,
     "metadata": {},
     "output_type": "execute_result"
    },
    {
     "data": {
      "image/png": "[encoded data removed]",
      "text/plain": [
       "<Figure size 720x360 with 1 Axes>"
      ]
     },
     "metadata": {},
     "output_type": "display_data"
    }
   ],
   "source": [
    "fig,ax = plt.subplots(figsize=(10, 5), facecolor=\"w\")\n",
    "\n",
    "for i in range(1,20):\n",
    "    values = []\n",
    "    for j in range(1,5):\n",
    "        x = i\n",
    "        y = int(colombia_df.loc[(colombia_df['n_seqs'] == i) & (colombia_df['trial_number'] == j)][\"introduction_count\"])\n",
    "        values.append(y)\n",
    "        plt.scatter(x,y, color = \"#637a66\", s=25)\n",
    "    plt.scatter(i, np.mean(values), color=\"black\", s=75)\n",
    "\n",
    "ax.set_ylim(0,10)\n",
    "ax.spines['top'].set_visible(False)\n",
    "ax.spines['right'].set_visible(False)\n",
    "\n",
    "ax.set_xlabel(\"Number of sequences\")\n",
    "ax.set_ylabel(\"Number of introductions\")\n",
    "ax.set_title(\"Colombia\")"
   ]
  }
 ],
 "metadata": {
  "kernelspec": {
   "display_name": "Python 3",
   "language": "python",
   "name": "python3"
  },
  "language_info": {
   "codemirror_mode": {
    "name": "ipython",
    "version": 3
   },
   "file_extension": ".py",
   "mimetype": "text/x-python",
   "name": "python",
   "nbconvert_exporter": "python",
   "pygments_lexer": "ipython3",
   "version": "3.6.8"
  }
 },
 "nbformat": 4,
 "nbformat_minor": 2
}
